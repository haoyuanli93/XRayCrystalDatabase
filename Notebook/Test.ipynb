{
 "cells": [
  {
   "cell_type": "code",
   "execution_count": 6,
   "metadata": {},
   "outputs": [],
   "source": [
    "import sys\n",
    "import numpy as np\n",
    "sys.path.append(\"../\")\n",
    "\n",
    "import XRayCrystalDatabase\n",
    "from XRayCrystalDatabase import PropertyCalculator"
   ]
  },
  {
   "cell_type": "code",
   "execution_count": 12,
   "metadata": {},
   "outputs": [
    {
     "name": "stdout",
     "output_type": "stream",
     "text": [
      "The atomic layer distance is 0.96 A.\n",
      "-1.2087953382644845e-05 -2.2607399415606026e-07\n",
      "3.396776157916034e-06 1.442752134703337e-07\n",
      "-1.0011890173605596e-07 -4.252466235292593e-09\n"
     ]
    }
   ],
   "source": [
    "my_crystal = PropertyCalculator.Silicon()\n",
    "\n",
    "(chi0,\n",
    " chih_sigma,\n",
    " chih_pi,\n",
    " sanity) = PropertyCalculator.get_chi0_and_chih(crystal_type = my_crystal ,\n",
    "                                                 xray_energy_kev = 9.,\n",
    "                                                 miller_idx = (4,4,0), \n",
    "                                                 temp=293.)\n",
    "\n",
    "print(chi0.real, chi0.imag)\n",
    "print(chih_sigma.real , chih_sigma.imag)\n",
    "print(chih_pi.real , chih_pi.imag)\n",
    "\n",
    "#print(\"#########################################################\")\n",
    "#print(\"                   Sanity Check\")\n",
    "#for x in sanity:\n",
    "#    print(x)"
   ]
  },
  {
   "cell_type": "code",
   "execution_count": 13,
   "metadata": {},
   "outputs": [
    {
     "data": {
      "text/plain": [
       "0.4209169936148935"
      ]
     },
     "execution_count": 13,
     "metadata": {},
     "output_type": "execute_result"
    }
   ],
   "source": [
    "0.10943E-05 / 0.25998E-05"
   ]
  },
  {
   "cell_type": "code",
   "execution_count": 14,
   "metadata": {
    "scrolled": true
   },
   "outputs": [
    {
     "data": {
      "text/plain": [
       "-0.02952667891134582"
      ]
     },
     "execution_count": 14,
     "metadata": {},
     "output_type": "execute_result"
    }
   ],
   "source": [
    "np.cos(45.846 * 2 / 180 * np.pi)"
   ]
  },
  {
   "cell_type": "code",
   "execution_count": 15,
   "metadata": {},
   "outputs": [
    {
     "data": {
      "text/plain": [
       "0.2629402486710125"
      ]
     },
     "execution_count": 15,
     "metadata": {},
     "output_type": "execute_result"
    }
   ],
   "source": [
    " (0.57695E-08 -4.252466235292593e-09) / 0.57695E-08"
   ]
  },
  {
   "cell_type": "code",
   "execution_count": null,
   "metadata": {},
   "outputs": [],
   "source": []
  }
 ],
 "metadata": {
  "kernelspec": {
   "display_name": "Python 3",
   "language": "python",
   "name": "python3"
  },
  "language_info": {
   "codemirror_mode": {
    "name": "ipython",
    "version": 3
   },
   "file_extension": ".py",
   "mimetype": "text/x-python",
   "name": "python",
   "nbconvert_exporter": "python",
   "pygments_lexer": "ipython3",
   "version": "3.6.10"
  }
 },
 "nbformat": 4,
 "nbformat_minor": 4
}
