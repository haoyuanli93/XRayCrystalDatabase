{
 "cells": [
  {
   "cell_type": "code",
   "execution_count": 1,
   "metadata": {},
   "outputs": [],
   "source": [
    "import sys\n",
    "sys.path.append(\"../\")\n",
    "\n",
    "import XRayCrystalDatabase\n",
    "from XRayCrystalDatabase import PropertyCalculator"
   ]
  },
  {
   "cell_type": "code",
   "execution_count": 2,
   "metadata": {},
   "outputs": [
    {
     "name": "stdout",
     "output_type": "stream",
     "text": [
      "The atomic layer distance is 1.92 A.\n",
      "-6.76456520502381e-06 -7.087627198077536e-08\n",
      "-3.787847724575384e-06 -6.334847224607707e-08\n",
      "-3.239481474071846e-06 -5.417752168876478e-08\n"
     ]
    }
   ],
   "source": [
    "my_crystal = PropertyCalculator.Silicon()\n",
    "\n",
    "(chi0,\n",
    " chih_sigma,\n",
    " chih_pi,\n",
    " sanity) = PropertyCalculator.get_chi0_and_chih(crystal_type = my_crystal ,\n",
    "                                                 xray_energy_kev = 12.,\n",
    "                                                 miller_idx = (2,2,0), \n",
    "                                                 temp=293.)\n",
    "\n",
    "print(chi0.real, chi0.imag)\n",
    "print(chih_sigma.real , chih_sigma.imag)\n",
    "print(chih_pi.real , chih_pi.imag)\n",
    "\n",
    "#print(\"#########################################################\")\n",
    "#print(\"                   Sanity Check\")\n",
    "#for x in sanity:\n",
    "#    print(x)"
   ]
  },
  {
   "cell_type": "code",
   "execution_count": null,
   "metadata": {},
   "outputs": [],
   "source": []
  }
 ],
 "metadata": {
  "kernelspec": {
   "display_name": "Python 3",
   "language": "python",
   "name": "python3"
  },
  "language_info": {
   "codemirror_mode": {
    "name": "ipython",
    "version": 3
   },
   "file_extension": ".py",
   "mimetype": "text/x-python",
   "name": "python",
   "nbconvert_exporter": "python",
   "pygments_lexer": "ipython3",
   "version": "3.6.10"
  }
 },
 "nbformat": 4,
 "nbformat_minor": 4
}
