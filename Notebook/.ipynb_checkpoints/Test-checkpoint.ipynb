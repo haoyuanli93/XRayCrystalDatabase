{
 "cells": [
  {
   "cell_type": "code",
   "execution_count": 1,
   "metadata": {},
   "outputs": [],
   "source": [
    "import sys\n",
    "sys.path.append(\"../\")\n",
    "\n",
    "import XRayCrystalDatabase\n",
    "from XRayCrystalDatabase import PropertyCalculator"
   ]
  },
  {
   "cell_type": "code",
   "execution_count": 2,
   "metadata": {},
   "outputs": [
    {
     "name": "stdout",
     "output_type": "stream",
     "text": [
      "[0. 0. 0.]\n",
      "[23138.43915771 23138.43915771     0.        ]\n",
      "0.0\n",
      "[0.00013577 0.00013577 0.00013577]\n",
      "[23138.43915771 23138.43915771     0.        ]\n",
      "2.0\n",
      "-2.4429656384280903e-06 -1.015988616542315e-36\n",
      "-5.773794299883773e-08 7.07085870828688e-24\n",
      "-4.5701383701127565e-08 5.596805326618285e-24\n",
      "#########################################################\n",
      "                   Sanity Check\n",
      "[14.0, 14.0]\n",
      "[0.145073, 0.145073]\n",
      "[array(0.19058134), array(0.19058134)]\n",
      "[array(0.21466917), array(0.21466917)]\n",
      "[4.1238208793700416e-42, 4.1238208793700416e-42]\n",
      "[0.9991987157037704, 0.9991987157037704]\n",
      "[(1+0j), (1-2.4492935982947064e-16j)]\n"
     ]
    }
   ],
   "source": [
    "my_crystal = PropertyCalculator.Silicon()\n",
    "\n",
    "(chi0,\n",
    " chih_sigma,\n",
    " chih_pi,\n",
    " sanity) = PropertyCalculator.get_chi0_and_chih(crystal_type = my_crystal ,\n",
    "                                                 xray_energy_kev = 10.,\n",
    "                                                 miller_idx = (2,2,0), \n",
    "                                                 temp=293.)\n",
    "\n",
    "print(chi0.real, chi0.imag)\n",
    "print(chih_sigma.real, chih_sigma.imag)\n",
    "print(chih_pi.real, chih_pi.imag)\n",
    "\n",
    "print(\"#########################################################\")\n",
    "print(\"                   Sanity Check\")\n",
    "for x in sanity:\n",
    "    print(x)"
   ]
  },
  {
   "cell_type": "code",
   "execution_count": null,
   "metadata": {},
   "outputs": [],
   "source": []
  }
 ],
 "metadata": {
  "kernelspec": {
   "display_name": "Python 3",
   "language": "python",
   "name": "python3"
  },
  "language_info": {
   "codemirror_mode": {
    "name": "ipython",
    "version": 3
   },
   "file_extension": ".py",
   "mimetype": "text/x-python",
   "name": "python",
   "nbconvert_exporter": "python",
   "pygments_lexer": "ipython3",
   "version": "3.6.10"
  }
 },
 "nbformat": 4,
 "nbformat_minor": 4
}
